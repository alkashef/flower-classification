{
 "cells": [
  {
   "cell_type": "code",
   "execution_count": 1,
   "metadata": {
    "colab": {},
    "colab_type": "code",
    "collapsed": true,
    "id": "IT5UHWhdXWa7"
   },
   "outputs": [],
   "source": [
    "hp = {'input_layer'   : 512,\n",
    "      'hidden_layer'  : 512,\n",
    "      'output_layer'  : 102,\n",
    "      'learning_rate' : 0.003,\n",
    "      'no_epochs'     : 1,\n",
    "      'batch_size'    : 64,\n",
    "      'dropout_rate'  : 0.2,\n",
    "      'num_workers'   : 0}"
   ]
  },
  {
   "cell_type": "code",
   "execution_count": 2,
   "metadata": {
    "colab": {},
    "colab_type": "code",
    "collapsed": true,
    "id": "kmLZ6zwmXWaM"
   },
   "outputs": [],
   "source": [
    "import warnings\n",
    "warnings.filterwarnings('ignore')"
   ]
  },
  {
   "cell_type": "code",
   "execution_count": 3,
   "metadata": {
    "colab": {
     "base_uri": "https://localhost:8080/",
     "height": 164
    },
    "colab_type": "code",
    "collapsed": true,
    "executionInfo": {
     "elapsed": 33813,
     "status": "ok",
     "timestamp": 1545664004206,
     "user": {
      "displayName": "GazpachoSoul",
      "photoUrl": "",
      "userId": "05357032336520226039"
     },
     "user_tz": -120
    },
    "id": "gKk0FTWAXWaW",
    "outputId": "b1c38eb7-af0c-48ba-c983-ba79f6c297f4"
   },
   "outputs": [],
   "source": [
    "import torch\n",
    "from torch import nn\n",
    "import torch.optim as optim\n",
    "import torch.nn.functional as F\n",
    "\n",
    "from torchvision import datasets, transforms, models\n",
    "\n",
    "import matplotlib.pyplot as plt\n",
    "%matplotlib inline\n",
    "%config InlineBackend.figure_format = 'retina'\n",
    "\n",
    "import numpy as np\n",
    "from PIL import Image\n",
    "import datetime\n",
    "import time\n",
    "import json\n",
    "import os\n",
    "import helper"
   ]
  },
  {
   "cell_type": "code",
   "execution_count": 4,
   "metadata": {
    "colab": {
     "base_uri": "https://localhost:8080/",
     "height": 146
    },
    "colab_type": "code",
    "executionInfo": {
     "elapsed": 1517,
     "status": "ok",
     "timestamp": 1545666586958,
     "user": {
      "displayName": "GazpachoSoul",
      "photoUrl": "",
      "userId": "05357032336520226039"
     },
     "user_tz": -120
    },
    "id": "uKgPvBpkXWar",
    "outputId": "870a4667-4c87-4c2e-ad5b-df97b03ffcd7"
   },
   "outputs": [
    {
     "name": "stdout",
     "output_type": "stream",
     "text": [
      "project_dir: C:\\Alkashef\\Google Drive\\Gazpacho Soul\\Colab Notebooks\\Final Challenge\n",
      "train_dir: C:\\Alkashef\\Google Drive\\Gazpacho Soul\\Colab Notebooks\\Final Challenge\\data\\flower_data\\train\n",
      "valid_dir: C:\\Alkashef\\Google Drive\\Gazpacho Soul\\Colab Notebooks\\Final Challenge\\data\\flower_data\\valid\n"
     ]
    }
   ],
   "source": [
    "project_dir = os.getcwd()\n",
    "\n",
    "data_dir = os.path.join(project_dir, 'data')\n",
    "train_dir = os.path.join(data_dir, 'flower_data', 'train')\n",
    "valid_dir = os.path.join(data_dir, 'flower_data', 'valid')\n",
    "\n",
    "print(\"project_dir:\", project_dir)\n",
    "print(\"train_dir:\", train_dir)\n",
    "print(\"valid_dir:\", valid_dir)"
   ]
  },
  {
   "cell_type": "code",
   "execution_count": 5,
   "metadata": {
    "colab": {},
    "colab_type": "code",
    "collapsed": true,
    "id": "cPwW-lb8XWbE"
   },
   "outputs": [],
   "source": [
    "# Define your transforms for the training and validation sets\n",
    "train_transforms = transforms.Compose([transforms.RandomRotation(30),\n",
    "                                       transforms.RandomResizedCrop(224),\n",
    "                                       transforms.RandomHorizontalFlip(),\n",
    "                                       transforms.ToTensor(),\n",
    "                                       transforms.Normalize([0.485, 0.456, 0.406], \n",
    "                                                            [0.229, 0.224, 0.225])])\n",
    "\n",
    "valid_transforms = transforms.Compose([transforms.Resize(255),\n",
    "                                       transforms.CenterCrop(224),\n",
    "                                       transforms.ToTensor(),\n",
    "                                       transforms.Normalize([0.485, 0.456, 0.406], \n",
    "                                                            [0.229, 0.224, 0.225])])\n",
    "\n",
    "# Load the datasets with ImageFolder\n",
    "train_data_raw = datasets.ImageFolder(train_dir)\n",
    "train_data_tans = datasets.ImageFolder(train_dir, transform=train_transforms)\n",
    "valid_data_tans = datasets.ImageFolder(valid_dir, transform=valid_transforms)\n",
    "\n",
    "# Using the image datasets and the trainforms, define the dataloaders\n",
    "train_loader_raw = torch.utils.data.DataLoader(train_data_raw, batch_size=hp['batch_size'], num_workers=hp['num_workers'], shuffle=True)\n",
    "train_loader_tans = torch.utils.data.DataLoader(train_data_tans, batch_size=hp['batch_size'], num_workers=hp['num_workers'], shuffle=True)\n",
    "valid_loader_trans = torch.utils.data.DataLoader(valid_data_tans, batch_size=hp['batch_size'], num_workers=hp['num_workers'])"
   ]
  },
  {
   "cell_type": "code",
   "execution_count": 6,
   "metadata": {},
   "outputs": [
    {
     "name": "stdout",
     "output_type": "stream",
     "text": [
      "Training observations: 6552\n",
      "Validation observations: 818\n",
      "Train : Test = 0.9 : 0.1\n"
     ]
    }
   ],
   "source": [
    "train_size = len(train_data_tans)\n",
    "valid_size = len(valid_data_tans)\n",
    "total_size = train_size + valid_size\n",
    "train_ratio = train_size / total_size\n",
    "valid_ratio = valid_size / total_size\n",
    "\n",
    "print(\"Training observations:\", train_size)\n",
    "print(\"Validation observations:\", valid_size)\n",
    "print(\"Train : Test = %02.1f : %02.1f\" % (train_ratio, valid_ratio))"
   ]
  }
 ],
 "metadata": {
  "accelerator": "GPU",
  "colab": {
   "collapsed_sections": [],
   "name": "Image Classifier Project.ipynb",
   "provenance": [],
   "toc_visible": true,
   "version": "0.3.2"
  },
  "kernelspec": {
   "display_name": "Python 3",
   "language": "python",
   "name": "python3"
  },
  "language_info": {
   "codemirror_mode": {
    "name": "ipython",
    "version": 3
   },
   "file_extension": ".py",
   "mimetype": "text/x-python",
   "name": "python",
   "nbconvert_exporter": "python",
   "pygments_lexer": "ipython3",
   "version": "3.6.2"
  }
 },
 "nbformat": 4,
 "nbformat_minor": 1
}
